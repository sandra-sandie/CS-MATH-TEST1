{
 "cells": [
  {
   "cell_type": "markdown",
   "id": "7b6cb7ee",
   "metadata": {},
   "source": [
    "\n",
    "\n",
    "\n",
    "# SECTION 1"
   ]
  },
  {
   "cell_type": "markdown",
   "id": "94bf9e76",
   "metadata": {},
   "source": [
    "1.B\n",
    "2.C\n",
    "3.A\n",
    "4.D\n",
    "5.C\n",
    "6.D\n",
    "7.C\n",
    "8.A(Because they are independent)\n",
    "9(a).A\n",
    "10(a).B\n",
    "10(b).B"
   ]
  },
  {
   "cell_type": "markdown",
   "id": "55d0f819",
   "metadata": {},
   "source": [
    "# SECTION 2"
   ]
  },
  {
   "cell_type": "markdown",
   "id": "73dfbf00",
   "metadata": {},
   "source": [
    "# QTN 6(a)"
   ]
  },
  {
   "cell_type": "code",
   "execution_count": null,
   "id": "0497d20e",
   "metadata": {},
   "outputs": [],
   "source": [
    "import numpy as np\n",
    "x = np.array([[1,0.2,0.5][0.2,1,0.8][0.5,0.8,1]])\n",
    "print(x)\n",
    "\n",
    "p = x.T\n",
    "print(p)\n",
    "\n",
    "w = np.linalg.inv(x)\n",
    "print(linalg.inv(x))"
   ]
  },
  {
   "cell_type": "markdown",
   "id": "af5c8958",
   "metadata": {},
   "source": [
    "# QTN 6(B)"
   ]
  },
  {
   "cell_type": "code",
   "execution_count": null,
   "id": "76e0695c",
   "metadata": {},
   "outputs": [],
   "source": [
    "P = np.det(x)\n",
    "print(det(x))"
   ]
  },
  {
   "cell_type": "markdown",
   "id": "bb1bed2e",
   "metadata": {},
   "source": [
    "# QTN 7"
   ]
  },
  {
   "cell_type": "markdown",
   "id": "79e0acb3",
   "metadata": {},
   "source": [
    "# MEAN"
   ]
  },
  {
   "cell_type": "code",
   "execution_count": null,
   "id": "b16b66a5",
   "metadata": {},
   "outputs": [],
   "source": [
    "import numpy as np\n",
    "n = stats.uniform.rvs(a,b,size = 200)\n",
    "m = np.mean(n)\n"
   ]
  },
  {
   "cell_type": "markdown",
   "id": "566db87e",
   "metadata": {},
   "source": [
    "# VARIANCE"
   ]
  },
  {
   "cell_type": "code",
   "execution_count": null,
   "id": "ee4b9d07",
   "metadata": {},
   "outputs": [],
   "source": [
    "n = stats.uniform.rvs(a,b,size = 200)\n",
    "V = np.var(n)"
   ]
  },
  {
   "cell_type": "markdown",
   "id": "283b9f9a",
   "metadata": {},
   "source": [
    "# MEDIAN"
   ]
  },
  {
   "cell_type": "code",
   "execution_count": null,
   "id": "c05c10ab",
   "metadata": {},
   "outputs": [],
   "source": [
    "n = stats.uniform.rvs(a,b,size = 200)\n",
    "Med = np.median(n)"
   ]
  },
  {
   "cell_type": "markdown",
   "id": "65122417",
   "metadata": {},
   "source": [
    "# MODE"
   ]
  },
  {
   "cell_type": "code",
   "execution_count": null,
   "id": "db322b6b",
   "metadata": {},
   "outputs": [],
   "source": [
    "n = stats.uniform.rvs(a,b,size = 200)\n",
    "mod = stats.mode(n)\n"
   ]
  },
  {
   "cell_type": "markdown",
   "id": "08273ff2",
   "metadata": {},
   "source": [
    "# QTN 4"
   ]
  },
  {
   "cell_type": "code",
   "execution_count": null,
   "id": "6306e06c",
   "metadata": {},
   "outputs": [],
   "source": [
    "import numpy as np\n",
    "x = np.array(25,2,5)\n",
    "print(x)"
   ]
  },
  {
   "cell_type": "code",
   "execution_count": null,
   "id": "f29f7f6c",
   "metadata": {},
   "outputs": [],
   "source": [
    "w = x.T\n",
    "print(w)"
   ]
  }
 ],
 "metadata": {
  "kernelspec": {
   "display_name": "Python 3 (ipykernel)",
   "language": "python",
   "name": "python3"
  },
  "language_info": {
   "codemirror_mode": {
    "name": "ipython",
    "version": 3
   },
   "file_extension": ".py",
   "mimetype": "text/x-python",
   "name": "python",
   "nbconvert_exporter": "python",
   "pygments_lexer": "ipython3",
   "version": "3.9.12"
  }
 },
 "nbformat": 4,
 "nbformat_minor": 5
}
